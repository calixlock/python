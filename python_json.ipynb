{
 "cells": [
  {
   "cell_type": "code",
   "execution_count": 1,
   "metadata": {},
   "outputs": [],
   "source": [
    "import json"
   ]
  },
  {
   "cell_type": "code",
   "execution_count": 2,
   "metadata": {},
   "outputs": [
    {
     "name": "stdout",
     "output_type": "stream",
     "text": [
      "{\"authToken\": \"2GsfR2bIVgdWYjjMuWO2kNdSBUy_7pqhjytjZNzi5FPonaKqR\", \"pw\": \"ngrok4176!\"}\n"
     ]
    }
   ],
   "source": [
    "file_path = \"../../../../private/ngrok.json\"\n",
    "# 읽기\n",
    "with open(file_path, 'r') as readFile:\n",
    "    json_data = json.load(readFile)\n",
    "\n",
    "print(type(json_data))\n",
    "\n",
    "# 고치기 / select data type\n",
    "with open(file_path, 'w', encoding='utf-8') as writeFile:\n",
    "    json_data = json.load(writeFile)\n",
    "\n",
    "print(type(json_data))\n"
   ]
  }
 ],
 "metadata": {
  "kernelspec": {
   "display_name": "Python 3",
   "language": "python",
   "name": "python3"
  },
  "language_info": {
   "codemirror_mode": {
    "name": "ipython",
    "version": 3
   },
   "file_extension": ".py",
   "mimetype": "text/x-python",
   "name": "python",
   "nbconvert_exporter": "python",
   "pygments_lexer": "ipython3",
   "version": "3.11.1"
  },
  "orig_nbformat": 4
 },
 "nbformat": 4,
 "nbformat_minor": 2
}
