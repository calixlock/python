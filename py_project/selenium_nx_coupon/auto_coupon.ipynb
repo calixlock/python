{
 "cells": [
  {
   "cell_type": "code",
   "execution_count": 106,
   "metadata": {},
   "outputs": [],
   "source": [
    "# !pip3 install selenium"
   ]
  },
  {
   "cell_type": "code",
   "execution_count": 107,
   "metadata": {},
   "outputs": [],
   "source": [
    "from selenium import webdriver\n",
    "from selenium.webdriver.common.keys import Keys\n",
    "from selenium.webdriver.common.by import By\n",
    "from selenium.common.exceptions import NoSuchElementException , ElementNotInteractableException\n",
    "import time\n",
    "# 크롬 실행\n",
    "driver = webdriver.Chrome()\n",
    "driver.implicitly_wait(1)"
   ]
  },
  {
   "cell_type": "code",
   "execution_count": 108,
   "metadata": {},
   "outputs": [],
   "source": [
    "def couponSiteOpen():\n",
    "    # 쿠폰등록\n",
    "    driver.find_element(By.CSS_SELECTOR,\"#quickIconBar > ul > li:nth-child(6) > a\").click()\n",
    "    # 쿠폰창 전환\n",
    "    driver.switch_to.window(driver.window_handles[-1])\n",
    "    print(\"현재창 : \",driver.current_window_handle)\n",
    "    print(\"창 리스트 : \",driver.window_handles)\n",
    "    return print(\"쿠폰창 오픈 완료\")"
   ]
  },
  {
   "cell_type": "code",
   "execution_count": 109,
   "metadata": {},
   "outputs": [],
   "source": [
    "try :\n",
    "# 로그인\n",
    "    driver.get(\"https://fconline.nexon.com/main/index\")\n",
    "    el_loginBox = driver.find_element(By.CSS_SELECTOR,\"body > div.gnbWrapper.gnbSizeL > div.gnbBar > div.gnbBarRight > div.gnbLogin > a\")\n",
    "    el_loginBox.click()\n",
    "    el_loginId = driver.find_element(By.CSS_SELECTOR,\"#txtNexonID\")\n",
    "    el_loginId.send_keys(\"ahnmyoungjin@gmail.com\")\n",
    "    el_loginPw = driver.find_element(By.CSS_SELECTOR,\"#txtPWD\")\n",
    "    pw = input(\"pw입력바랍니다\")\n",
    "    el_loginPw.send_keys(pw)\n",
    "    el_loginPw.send_keys(Keys.ENTER)\n",
    "    driver.implicitly_wait(1)\n",
    "    driver.find_element(By.CSS_SELECTOR,\"#layerMembership > div > a\").click()\n",
    "# 팝업 종료\n",
    "except NoSuchElementException as e:\n",
    "    print(\"NoSuchElementException 발생\", e)"
   ]
  },
  {
   "cell_type": "code",
   "execution_count": 110,
   "metadata": {},
   "outputs": [
    {
     "name": "stdout",
     "output_type": "stream",
     "text": [
      "쿠폰 :  9  개\n",
      "현재창 :  33A084948802C16B3414496AD874FFF2\n",
      "창 리스트 :  ['B0A6E37EA579A39F96A53E2A589AE61A', '33A084948802C16B3414496AD874FFF2']\n",
      "쿠폰창 오픈 완료\n"
     ]
    }
   ],
   "source": [
    "couponList = [\"이긴사람만이결승에GO\",\"E스포츠종목FIRST금메달\",\"풍성한한GA위보내세요\",\"내일부터추석버닝EVENT\",\"공홈감사선물잊지MASEYO\",\"남은한국대표팀FIGHTING\",\"우리대표팀수GO했어요S2\",\"2in1추석버닝과함께풍족한한가위\",\"Welcometofc온라인\"]\n",
    "print(\"쿠폰 : \" ,len(couponList),\" 개\")\n",
    "couponSiteOpen()"
   ]
  },
  {
   "cell_type": "code",
   "execution_count": null,
   "metadata": {},
   "outputs": [],
   "source": [
    "# 재귀 필요\n",
    "def couponInsert():\n",
    "    try :\n",
    "        couponSiteOpen()\n",
    "\n",
    "    except Exception as e :"
   ]
  },
  {
   "cell_type": "code",
   "execution_count": 111,
   "metadata": {},
   "outputs": [
    {
     "name": "stdout",
     "output_type": "stream",
     "text": [
      "0 --쿠폰에러--- Message: element not interactable\n",
      "  (Session info: chrome=116.0.5845.188)\n",
      "Stacktrace:\n",
      "\tGetHandleVerifier [0x00007FF7CBDD52A2+57122]\n",
      "\t(No symbol) [0x00007FF7CBD4EA92]\n",
      "\t(No symbol) [0x00007FF7CBC1E25D]\n",
      "\t(No symbol) [0x00007FF7CBC532B7]\n",
      "\t(No symbol) [0x00007FF7CBC5263B]\n",
      "\t(No symbol) [0x00007FF7CBC76FDA]\n",
      "\t(No symbol) [0x00007FF7CBC4EB76]\n",
      "\t(No symbol) [0x00007FF7CBC771F0]\n",
      "\t(No symbol) [0x00007FF7CBC8EB82]\n",
      "\t(No symbol) [0x00007FF7CBC76DB3]\n",
      "\t(No symbol) [0x00007FF7CBC4D2B1]\n",
      "\t(No symbol) [0x00007FF7CBC4E494]\n",
      "\tGetHandleVerifier [0x00007FF7CC07EF82+2849794]\n",
      "\tGetHandleVerifier [0x00007FF7CC0D1D24+3189156]\n",
      "\tGetHandleVerifier [0x00007FF7CC0CACAF+3160367]\n",
      "\tGetHandleVerifier [0x00007FF7CBE66D06+653702]\n",
      "\t(No symbol) [0x00007FF7CBD5A208]\n",
      "\t(No symbol) [0x00007FF7CBD562C4]\n",
      "\t(No symbol) [0x00007FF7CBD563F6]\n",
      "\t(No symbol) [0x00007FF7CBD467A3]\n",
      "\tBaseThreadInitThunk [0x00007FFB36857344+20]\n",
      "\tRtlUserThreadStart [0x00007FFB373626B1+33]\n",
      "\n",
      "현재창 :  6B5405CB7F700EDC58BB458A1A01B9B6\n",
      "창 리스트 :  ['B0A6E37EA579A39F96A53E2A589AE61A', '6B5405CB7F700EDC58BB458A1A01B9B6']\n",
      "쿠폰창 오픈 완료\n"
     ]
    },
    {
     "ename": "ElementNotInteractableException",
     "evalue": "Message: element not interactable\n  (Session info: chrome=116.0.5845.188)\nStacktrace:\n\tGetHandleVerifier [0x00007FF7CBDD52A2+57122]\n\t(No symbol) [0x00007FF7CBD4EA92]\n\t(No symbol) [0x00007FF7CBC1E25D]\n\t(No symbol) [0x00007FF7CBC532B7]\n\t(No symbol) [0x00007FF7CBC5263B]\n\t(No symbol) [0x00007FF7CBC76FDA]\n\t(No symbol) [0x00007FF7CBC4EB76]\n\t(No symbol) [0x00007FF7CBC771F0]\n\t(No symbol) [0x00007FF7CBC8EB82]\n\t(No symbol) [0x00007FF7CBC76DB3]\n\t(No symbol) [0x00007FF7CBC4D2B1]\n\t(No symbol) [0x00007FF7CBC4E494]\n\tGetHandleVerifier [0x00007FF7CC07EF82+2849794]\n\tGetHandleVerifier [0x00007FF7CC0D1D24+3189156]\n\tGetHandleVerifier [0x00007FF7CC0CACAF+3160367]\n\tGetHandleVerifier [0x00007FF7CBE66D06+653702]\n\t(No symbol) [0x00007FF7CBD5A208]\n\t(No symbol) [0x00007FF7CBD562C4]\n\t(No symbol) [0x00007FF7CBD563F6]\n\t(No symbol) [0x00007FF7CBD467A3]\n\tBaseThreadInitThunk [0x00007FFB36857344+20]\n\tRtlUserThreadStart [0x00007FFB373626B1+33]\n",
     "output_type": "error",
     "traceback": [
      "\u001b[1;31m---------------------------------------------------------------------------\u001b[0m",
      "\u001b[1;31mElementNotInteractableException\u001b[0m           Traceback (most recent call last)",
      "\u001b[1;32me:\\Bigdata\\git\\git_2023\\calixlock\\py_project\\selenium_nx_coupon\\auto_coupon.ipynb Cell 6\u001b[0m line \u001b[0;36m1\n\u001b[0;32m     <a href='vscode-notebook-cell:/e%3A/Bigdata/git/git_2023/calixlock/py_project/selenium_nx_coupon/auto_coupon.ipynb#W3sZmlsZQ%3D%3D?line=10'>11</a>\u001b[0m time\u001b[39m.\u001b[39msleep(\u001b[39m0.3\u001b[39m)\n\u001b[1;32m---> <a href='vscode-notebook-cell:/e%3A/Bigdata/git/git_2023/calixlock/py_project/selenium_nx_coupon/auto_coupon.ipynb#W3sZmlsZQ%3D%3D?line=11'>12</a>\u001b[0m driver\u001b[39m.\u001b[39;49mfind_element(By\u001b[39m.\u001b[39;49mCSS_SELECTOR,\u001b[39m\"\u001b[39;49m\u001b[39m#completeLayer\u001b[39;49m\u001b[39m\"\u001b[39;49m)\u001b[39m.\u001b[39;49msend_keys(Keys\u001b[39m.\u001b[39;49mENTER)\n\u001b[0;32m     <a href='vscode-notebook-cell:/e%3A/Bigdata/git/git_2023/calixlock/py_project/selenium_nx_coupon/auto_coupon.ipynb#W3sZmlsZQ%3D%3D?line=12'>13</a>\u001b[0m \u001b[39m# driver.implicitly_wait(1)\u001b[39;00m\n",
      "File \u001b[1;32mc:\\Python311\\Lib\\site-packages\\selenium\\webdriver\\remote\\webelement.py:230\u001b[0m, in \u001b[0;36mWebElement.send_keys\u001b[1;34m(self, *value)\u001b[0m\n\u001b[0;32m    228\u001b[0m         value \u001b[39m=\u001b[39m \u001b[39m\"\u001b[39m\u001b[39m\\n\u001b[39;00m\u001b[39m\"\u001b[39m\u001b[39m.\u001b[39mjoin(remote_files)\n\u001b[1;32m--> 230\u001b[0m \u001b[39mself\u001b[39;49m\u001b[39m.\u001b[39;49m_execute(\n\u001b[0;32m    231\u001b[0m     Command\u001b[39m.\u001b[39;49mSEND_KEYS_TO_ELEMENT, {\u001b[39m\"\u001b[39;49m\u001b[39mtext\u001b[39;49m\u001b[39m\"\u001b[39;49m: \u001b[39m\"\u001b[39;49m\u001b[39m\"\u001b[39;49m\u001b[39m.\u001b[39;49mjoin(keys_to_typing(value)), \u001b[39m\"\u001b[39;49m\u001b[39mvalue\u001b[39;49m\u001b[39m\"\u001b[39;49m: keys_to_typing(value)}\n\u001b[0;32m    232\u001b[0m )\n",
      "File \u001b[1;32mc:\\Python311\\Lib\\site-packages\\selenium\\webdriver\\remote\\webelement.py:394\u001b[0m, in \u001b[0;36mWebElement._execute\u001b[1;34m(self, command, params)\u001b[0m\n\u001b[0;32m    393\u001b[0m params[\u001b[39m\"\u001b[39m\u001b[39mid\u001b[39m\u001b[39m\"\u001b[39m] \u001b[39m=\u001b[39m \u001b[39mself\u001b[39m\u001b[39m.\u001b[39m_id\n\u001b[1;32m--> 394\u001b[0m \u001b[39mreturn\u001b[39;00m \u001b[39mself\u001b[39;49m\u001b[39m.\u001b[39;49m_parent\u001b[39m.\u001b[39;49mexecute(command, params)\n",
      "File \u001b[1;32mc:\\Python311\\Lib\\site-packages\\selenium\\webdriver\\remote\\webdriver.py:344\u001b[0m, in \u001b[0;36mWebDriver.execute\u001b[1;34m(self, driver_command, params)\u001b[0m\n\u001b[0;32m    343\u001b[0m \u001b[39mif\u001b[39;00m response:\n\u001b[1;32m--> 344\u001b[0m     \u001b[39mself\u001b[39;49m\u001b[39m.\u001b[39;49merror_handler\u001b[39m.\u001b[39;49mcheck_response(response)\n\u001b[0;32m    345\u001b[0m     response[\u001b[39m\"\u001b[39m\u001b[39mvalue\u001b[39m\u001b[39m\"\u001b[39m] \u001b[39m=\u001b[39m \u001b[39mself\u001b[39m\u001b[39m.\u001b[39m_unwrap_value(response\u001b[39m.\u001b[39mget(\u001b[39m\"\u001b[39m\u001b[39mvalue\u001b[39m\u001b[39m\"\u001b[39m, \u001b[39mNone\u001b[39;00m))\n",
      "File \u001b[1;32mc:\\Python311\\Lib\\site-packages\\selenium\\webdriver\\remote\\errorhandler.py:229\u001b[0m, in \u001b[0;36mErrorHandler.check_response\u001b[1;34m(self, response)\u001b[0m\n\u001b[0;32m    228\u001b[0m     \u001b[39mraise\u001b[39;00m exception_class(message, screen, stacktrace, alert_text)  \u001b[39m# type: ignore[call-arg]  # mypy is not smart enough here\u001b[39;00m\n\u001b[1;32m--> 229\u001b[0m \u001b[39mraise\u001b[39;00m exception_class(message, screen, stacktrace)\n",
      "\u001b[1;31mElementNotInteractableException\u001b[0m: Message: element not interactable\n  (Session info: chrome=116.0.5845.188)\nStacktrace:\n\tGetHandleVerifier [0x00007FF7CBDD52A2+57122]\n\t(No symbol) [0x00007FF7CBD4EA92]\n\t(No symbol) [0x00007FF7CBC1E25D]\n\t(No symbol) [0x00007FF7CBC532B7]\n\t(No symbol) [0x00007FF7CBC5263B]\n\t(No symbol) [0x00007FF7CBC76FDA]\n\t(No symbol) [0x00007FF7CBC4EB76]\n\t(No symbol) [0x00007FF7CBC771F0]\n\t(No symbol) [0x00007FF7CBC8EB82]\n\t(No symbol) [0x00007FF7CBC76DB3]\n\t(No symbol) [0x00007FF7CBC4D2B1]\n\t(No symbol) [0x00007FF7CBC4E494]\n\tGetHandleVerifier [0x00007FF7CC07EF82+2849794]\n\tGetHandleVerifier [0x00007FF7CC0D1D24+3189156]\n\tGetHandleVerifier [0x00007FF7CC0CACAF+3160367]\n\tGetHandleVerifier [0x00007FF7CBE66D06+653702]\n\t(No symbol) [0x00007FF7CBD5A208]\n\t(No symbol) [0x00007FF7CBD562C4]\n\t(No symbol) [0x00007FF7CBD563F6]\n\t(No symbol) [0x00007FF7CBD467A3]\n\tBaseThreadInitThunk [0x00007FFB36857344+20]\n\tRtlUserThreadStart [0x00007FFB373626B1+33]\n",
      "\nDuring handling of the above exception, another exception occurred:\n",
      "\u001b[1;31mElementNotInteractableException\u001b[0m           Traceback (most recent call last)",
      "\u001b[1;32me:\\Bigdata\\git\\git_2023\\calixlock\\py_project\\selenium_nx_coupon\\auto_coupon.ipynb Cell 6\u001b[0m line \u001b[0;36m3\n\u001b[0;32m     <a href='vscode-notebook-cell:/e%3A/Bigdata/git/git_2023/calixlock/py_project/selenium_nx_coupon/auto_coupon.ipynb#W3sZmlsZQ%3D%3D?line=29'>30</a>\u001b[0m \u001b[39m# driver.implicitly_wait(1)\u001b[39;00m\n\u001b[0;32m     <a href='vscode-notebook-cell:/e%3A/Bigdata/git/git_2023/calixlock/py_project/selenium_nx_coupon/auto_coupon.ipynb#W3sZmlsZQ%3D%3D?line=30'>31</a>\u001b[0m time\u001b[39m.\u001b[39msleep(\u001b[39m0.3\u001b[39m)\n\u001b[1;32m---> <a href='vscode-notebook-cell:/e%3A/Bigdata/git/git_2023/calixlock/py_project/selenium_nx_coupon/auto_coupon.ipynb#W3sZmlsZQ%3D%3D?line=31'>32</a>\u001b[0m driver\u001b[39m.\u001b[39;49mfind_element(By\u001b[39m.\u001b[39;49mCSS_SELECTOR,\u001b[39m\"\u001b[39;49m\u001b[39m#completeLayer\u001b[39;49m\u001b[39m\"\u001b[39;49m)\u001b[39m.\u001b[39;49msend_keys(Keys\u001b[39m.\u001b[39;49mENTER)\n\u001b[0;32m     <a href='vscode-notebook-cell:/e%3A/Bigdata/git/git_2023/calixlock/py_project/selenium_nx_coupon/auto_coupon.ipynb#W3sZmlsZQ%3D%3D?line=32'>33</a>\u001b[0m \u001b[39m# driver.implicitly_wait(1)\u001b[39;00m\n\u001b[0;32m     <a href='vscode-notebook-cell:/e%3A/Bigdata/git/git_2023/calixlock/py_project/selenium_nx_coupon/auto_coupon.ipynb#W3sZmlsZQ%3D%3D?line=33'>34</a>\u001b[0m time\u001b[39m.\u001b[39msleep(\u001b[39m0.3\u001b[39m)\n",
      "File \u001b[1;32mc:\\Python311\\Lib\\site-packages\\selenium\\webdriver\\remote\\webelement.py:230\u001b[0m, in \u001b[0;36mWebElement.send_keys\u001b[1;34m(self, *value)\u001b[0m\n\u001b[0;32m    227\u001b[0m             remote_files\u001b[39m.\u001b[39mappend(\u001b[39mself\u001b[39m\u001b[39m.\u001b[39m_upload(file))\n\u001b[0;32m    228\u001b[0m         value \u001b[39m=\u001b[39m \u001b[39m\"\u001b[39m\u001b[39m\\n\u001b[39;00m\u001b[39m\"\u001b[39m\u001b[39m.\u001b[39mjoin(remote_files)\n\u001b[1;32m--> 230\u001b[0m \u001b[39mself\u001b[39;49m\u001b[39m.\u001b[39;49m_execute(\n\u001b[0;32m    231\u001b[0m     Command\u001b[39m.\u001b[39;49mSEND_KEYS_TO_ELEMENT, {\u001b[39m\"\u001b[39;49m\u001b[39mtext\u001b[39;49m\u001b[39m\"\u001b[39;49m: \u001b[39m\"\u001b[39;49m\u001b[39m\"\u001b[39;49m\u001b[39m.\u001b[39;49mjoin(keys_to_typing(value)), \u001b[39m\"\u001b[39;49m\u001b[39mvalue\u001b[39;49m\u001b[39m\"\u001b[39;49m: keys_to_typing(value)}\n\u001b[0;32m    232\u001b[0m )\n",
      "File \u001b[1;32mc:\\Python311\\Lib\\site-packages\\selenium\\webdriver\\remote\\webelement.py:394\u001b[0m, in \u001b[0;36mWebElement._execute\u001b[1;34m(self, command, params)\u001b[0m\n\u001b[0;32m    392\u001b[0m     params \u001b[39m=\u001b[39m {}\n\u001b[0;32m    393\u001b[0m params[\u001b[39m\"\u001b[39m\u001b[39mid\u001b[39m\u001b[39m\"\u001b[39m] \u001b[39m=\u001b[39m \u001b[39mself\u001b[39m\u001b[39m.\u001b[39m_id\n\u001b[1;32m--> 394\u001b[0m \u001b[39mreturn\u001b[39;00m \u001b[39mself\u001b[39;49m\u001b[39m.\u001b[39;49m_parent\u001b[39m.\u001b[39;49mexecute(command, params)\n",
      "File \u001b[1;32mc:\\Python311\\Lib\\site-packages\\selenium\\webdriver\\remote\\webdriver.py:344\u001b[0m, in \u001b[0;36mWebDriver.execute\u001b[1;34m(self, driver_command, params)\u001b[0m\n\u001b[0;32m    342\u001b[0m response \u001b[39m=\u001b[39m \u001b[39mself\u001b[39m\u001b[39m.\u001b[39mcommand_executor\u001b[39m.\u001b[39mexecute(driver_command, params)\n\u001b[0;32m    343\u001b[0m \u001b[39mif\u001b[39;00m response:\n\u001b[1;32m--> 344\u001b[0m     \u001b[39mself\u001b[39;49m\u001b[39m.\u001b[39;49merror_handler\u001b[39m.\u001b[39;49mcheck_response(response)\n\u001b[0;32m    345\u001b[0m     response[\u001b[39m\"\u001b[39m\u001b[39mvalue\u001b[39m\u001b[39m\"\u001b[39m] \u001b[39m=\u001b[39m \u001b[39mself\u001b[39m\u001b[39m.\u001b[39m_unwrap_value(response\u001b[39m.\u001b[39mget(\u001b[39m\"\u001b[39m\u001b[39mvalue\u001b[39m\u001b[39m\"\u001b[39m, \u001b[39mNone\u001b[39;00m))\n\u001b[0;32m    346\u001b[0m     \u001b[39mreturn\u001b[39;00m response\n",
      "File \u001b[1;32mc:\\Python311\\Lib\\site-packages\\selenium\\webdriver\\remote\\errorhandler.py:229\u001b[0m, in \u001b[0;36mErrorHandler.check_response\u001b[1;34m(self, response)\u001b[0m\n\u001b[0;32m    227\u001b[0m         alert_text \u001b[39m=\u001b[39m value[\u001b[39m\"\u001b[39m\u001b[39malert\u001b[39m\u001b[39m\"\u001b[39m]\u001b[39m.\u001b[39mget(\u001b[39m\"\u001b[39m\u001b[39mtext\u001b[39m\u001b[39m\"\u001b[39m)\n\u001b[0;32m    228\u001b[0m     \u001b[39mraise\u001b[39;00m exception_class(message, screen, stacktrace, alert_text)  \u001b[39m# type: ignore[call-arg]  # mypy is not smart enough here\u001b[39;00m\n\u001b[1;32m--> 229\u001b[0m \u001b[39mraise\u001b[39;00m exception_class(message, screen, stacktrace)\n",
      "\u001b[1;31mElementNotInteractableException\u001b[0m: Message: element not interactable\n  (Session info: chrome=116.0.5845.188)\nStacktrace:\n\tGetHandleVerifier [0x00007FF7CBDD52A2+57122]\n\t(No symbol) [0x00007FF7CBD4EA92]\n\t(No symbol) [0x00007FF7CBC1E25D]\n\t(No symbol) [0x00007FF7CBC532B7]\n\t(No symbol) [0x00007FF7CBC5263B]\n\t(No symbol) [0x00007FF7CBC76FDA]\n\t(No symbol) [0x00007FF7CBC4EB76]\n\t(No symbol) [0x00007FF7CBC771F0]\n\t(No symbol) [0x00007FF7CBC8EB82]\n\t(No symbol) [0x00007FF7CBC76DB3]\n\t(No symbol) [0x00007FF7CBC4D2B1]\n\t(No symbol) [0x00007FF7CBC4E494]\n\tGetHandleVerifier [0x00007FF7CC07EF82+2849794]\n\tGetHandleVerifier [0x00007FF7CC0D1D24+3189156]\n\tGetHandleVerifier [0x00007FF7CC0CACAF+3160367]\n\tGetHandleVerifier [0x00007FF7CBE66D06+653702]\n\t(No symbol) [0x00007FF7CBD5A208]\n\t(No symbol) [0x00007FF7CBD562C4]\n\t(No symbol) [0x00007FF7CBD563F6]\n\t(No symbol) [0x00007FF7CBD467A3]\n\tBaseThreadInitThunk [0x00007FFB36857344+20]\n\tRtlUserThreadStart [0x00007FFB373626B1+33]\n"
     ]
    }
   ],
   "source": [
    "try :\n",
    "    for idx, value in enumerate(couponList):\n",
    "        driver.find_element(By.CSS_SELECTOR,\"#couponInfo > a\").send_keys(Keys.ENTER)\n",
    "        # driver.implicitly_wait(1)\n",
    "        time.sleep(0.3)\n",
    "        driver.find_element(By.CSS_SELECTOR,\"#couponPopup > div:nth-child(3) > div > div > input\").send_keys(value)\n",
    "        # driver.implicitly_wait(1)\n",
    "        time.sleep(0.3)\n",
    "        driver.find_element(By.CSS_SELECTOR,\"#couponPopup > div:nth-child(3) > div > div > button\").send_keys(Keys.ENTER)\n",
    "        # driver.implicitly_wait(1)\n",
    "        time.sleep(0.3)\n",
    "        driver.find_element(By.CSS_SELECTOR,\"#completeLayer\").send_keys(Keys.ENTER)\n",
    "        # driver.implicitly_wait(1)\n",
    "        time.sleep(0.3)\n",
    "        \n",
    "except Exception as e :\n",
    "    print(idx,\"--쿠폰에러---\",e)\n",
    "    driver.close()\n",
    "    driver.switch_to.window(driver.window_handles[-1])\n",
    "    couponSiteOpen()\n",
    "\n",
    "    for  i, value in enumerate(couponList[idx:]) :\n",
    "        driver.find_element(By.CSS_SELECTOR,\"#couponInfo > a\").send_keys(Keys.ENTER)\n",
    "        # driver.implicitly_wait(1)\n",
    "        time.sleep(0.3)\n",
    "        driver.find_element(By.CSS_SELECTOR,\"#couponPopup > div:nth-child(3) > div > div > input\").send_keys(value)\n",
    "        # driver.implicitly_wait(1)\n",
    "        time.sleep(0.3)\n",
    "        driver.find_element(By.CSS_SELECTOR,\"#couponPopup > div:nth-child(9) > div > div > button.bt2\").send_keys(Keys.ENTER)\n",
    "        # driver.implicitly_wait(1)\n",
    "        time.sleep(0.3)\n",
    "        driver.find_element(By.CSS_SELECTOR,\"#completeLayer\").send_keys(Keys.ENTER)\n",
    "        # driver.implicitly_wait(1)\n",
    "        time.sleep(0.3)\n",
    "\n",
    "except ElementNotInteractableException  as ee :\n",
    "    print(ee)\n",
    "finally :\n",
    "    driver.close()"
   ]
  },
  {
   "cell_type": "code",
   "execution_count": null,
   "metadata": {},
   "outputs": [],
   "source": [
    "\n",
    "\n",
    "#couponPopup > div:nth-child(9) > div > div > button.bt2\n"
   ]
  },
  {
   "cell_type": "code",
   "execution_count": null,
   "metadata": {},
   "outputs": [],
   "source": []
  }
 ],
 "metadata": {
  "kernelspec": {
   "display_name": "Python 3",
   "language": "python",
   "name": "python3"
  },
  "language_info": {
   "codemirror_mode": {
    "name": "ipython",
    "version": 3
   },
   "file_extension": ".py",
   "mimetype": "text/x-python",
   "name": "python",
   "nbconvert_exporter": "python",
   "pygments_lexer": "ipython3",
   "version": "3.11.4"
  },
  "orig_nbformat": 4
 },
 "nbformat": 4,
 "nbformat_minor": 2
}
