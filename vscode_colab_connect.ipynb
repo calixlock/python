{
 "cells": [
  {
   "cell_type": "code",
   "execution_count": null,
   "metadata": {},
   "outputs": [],
   "source": [
    "# 참고 사이트 \n",
    "# https://blog.naver.com/PostView.nhn?blogId=ys10mjh&logNo=222328257839&parentCategoryNo=&categoryNo=29&viewDate=&isShowPopularPosts=true&from=search"
   ]
  },
  {
   "cell_type": "code",
   "execution_count": 28,
   "metadata": {},
   "outputs": [
    {
     "ename": "ModuleNotFoundError",
     "evalue": "No module named 'google.colab'",
     "output_type": "error",
     "traceback": [
      "\u001b[1;31m---------------------------------------------------------------------------\u001b[0m",
      "\u001b[1;31mModuleNotFoundError\u001b[0m                       Traceback (most recent call last)",
      "Cell \u001b[1;32mIn[28], line 12\u001b[0m\n\u001b[0;32m      1\u001b[0m \u001b[39m# google colab install\u001b[39;00m\n\u001b[0;32m      2\u001b[0m \u001b[39m# !pip3 install google-colab\u001b[39;00m\n\u001b[0;32m      3\u001b[0m \u001b[39m# google drive mount\u001b[39;00m\n\u001b[1;32m   (...)\u001b[0m\n\u001b[0;32m      9\u001b[0m \u001b[39m# !pip3 install google-cloud\u001b[39;00m\n\u001b[0;32m     10\u001b[0m \u001b[39m# !pip3 install google-cloud-vision\u001b[39;00m\n\u001b[0;32m     11\u001b[0m \u001b[39mimport\u001b[39;00m \u001b[39mgoogle\u001b[39;00m\n\u001b[1;32m---> 12\u001b[0m \u001b[39mfrom\u001b[39;00m \u001b[39mgoogle\u001b[39;00m\u001b[39m.\u001b[39;00m\u001b[39mcolab\u001b[39;00m \u001b[39mimport\u001b[39;00m drive\n\u001b[0;32m     13\u001b[0m drive\u001b[39m.\u001b[39mmount(\u001b[39m'\u001b[39m\u001b[39m/content/drive\u001b[39m\u001b[39m'\u001b[39m)\n",
      "\u001b[1;31mModuleNotFoundError\u001b[0m: No module named 'google.colab'"
     ]
    }
   ],
   "source": [
    "\n"
   ]
  },
  {
   "cell_type": "code",
   "execution_count": 25,
   "metadata": {},
   "outputs": [
    {
     "ename": "ModuleNotFoundError",
     "evalue": "No module named 'apt'",
     "output_type": "error",
     "traceback": [
      "\u001b[1;31m---------------------------------------------------------------------------\u001b[0m",
      "\u001b[1;31mModuleNotFoundError\u001b[0m                       Traceback (most recent call last)",
      "Cell \u001b[1;32mIn[25], line 15\u001b[0m\n\u001b[0;32m     12\u001b[0m authtoken \u001b[39m=\u001b[39m json_data[\u001b[39m\"\u001b[39m\u001b[39mauthToken\u001b[39m\u001b[39m\"\u001b[39m]\n\u001b[0;32m     13\u001b[0m password \u001b[39m=\u001b[39m json_data[\u001b[39m\"\u001b[39m\u001b[39mpw\u001b[39m\u001b[39m\"\u001b[39m]\n\u001b[1;32m---> 15\u001b[0m \u001b[39mfrom\u001b[39;00m \u001b[39mcolab_ssh\u001b[39;00m \u001b[39mimport\u001b[39;00m launch_ssh\n\u001b[0;32m     16\u001b[0m launch_ssh(authtoken, password)\n",
      "File \u001b[1;32mc:\\Users\\amj41\\AppData\\Local\\Programs\\Python\\Python311\\Lib\\site-packages\\colab_ssh\\__init__.py:8\u001b[0m\n\u001b[0;32m      6\u001b[0m \u001b[39mfrom\u001b[39;00m \u001b[39mcolab_ssh\u001b[39;00m\u001b[39m.\u001b[39;00m\u001b[39mset_private_key\u001b[39;00m \u001b[39mimport\u001b[39;00m set_private_key\n\u001b[0;32m      7\u001b[0m \u001b[39mfrom\u001b[39;00m \u001b[39mcolab_ssh\u001b[39;00m\u001b[39m.\u001b[39;00m\u001b[39mget_tunnel_config\u001b[39;00m \u001b[39mimport\u001b[39;00m get_tunnel_config\n\u001b[1;32m----> 8\u001b[0m \u001b[39mfrom\u001b[39;00m \u001b[39mcolab_ssh\u001b[39;00m\u001b[39m.\u001b[39;00m\u001b[39mlaunch_ssh_cloudflared\u001b[39;00m \u001b[39mimport\u001b[39;00m launch_ssh_cloudflared\n\u001b[0;32m     10\u001b[0m __all__ \u001b[39m=\u001b[39m [\n\u001b[0;32m     11\u001b[0m     \u001b[39m\"\u001b[39m\u001b[39mlaunch_ssh\u001b[39m\u001b[39m\"\u001b[39m,\n\u001b[0;32m     12\u001b[0m     \u001b[39m\"\u001b[39m\u001b[39minit_git\u001b[39m\u001b[39m\"\u001b[39m,\n\u001b[1;32m   (...)\u001b[0m\n\u001b[0;32m     19\u001b[0m     \u001b[39m\"\u001b[39m\u001b[39mlaunch_ssh_cloudflared\u001b[39m\u001b[39m\"\u001b[39m,\n\u001b[0;32m     20\u001b[0m ]\n",
      "File \u001b[1;32mc:\\Users\\amj41\\AppData\\Local\\Programs\\Python\\Python311\\Lib\\site-packages\\colab_ssh\\launch_ssh_cloudflared.py:1\u001b[0m\n\u001b[1;32m----> 1\u001b[0m \u001b[39mfrom\u001b[39;00m \u001b[39mcolab_ssh\u001b[39;00m\u001b[39m.\u001b[39;00m\u001b[39mutils\u001b[39;00m\u001b[39m.\u001b[39;00m\u001b[39mpackages\u001b[39;00m\u001b[39m.\u001b[39;00m\u001b[39minstaller\u001b[39;00m \u001b[39mimport\u001b[39;00m create_deb_installer\n\u001b[0;32m      2\u001b[0m \u001b[39mfrom\u001b[39;00m \u001b[39mcolab_ssh\u001b[39;00m\u001b[39m.\u001b[39;00m\u001b[39mutils\u001b[39;00m\u001b[39m.\u001b[39;00m\u001b[39mui\u001b[39;00m\u001b[39m.\u001b[39;00m\u001b[39mrender_html\u001b[39;00m \u001b[39mimport\u001b[39;00m render_template\n\u001b[0;32m      3\u001b[0m \u001b[39mfrom\u001b[39;00m \u001b[39msubprocess\u001b[39;00m \u001b[39mimport\u001b[39;00m Popen, PIPE\n",
      "File \u001b[1;32mc:\\Users\\amj41\\AppData\\Local\\Programs\\Python\\Python311\\Lib\\site-packages\\colab_ssh\\utils\\packages\\installer.py:1\u001b[0m\n\u001b[1;32m----> 1\u001b[0m \u001b[39mimport\u001b[39;00m \u001b[39mapt\u001b[39;00m\n\u001b[0;32m      2\u001b[0m \u001b[39mimport\u001b[39;00m \u001b[39mos\u001b[39;00m\n\u001b[0;32m      6\u001b[0m \u001b[39mdef\u001b[39;00m \u001b[39mcreate_deb_installer\u001b[39m():\n",
      "\u001b[1;31mModuleNotFoundError\u001b[0m: No module named 'apt'"
     ]
    }
   ],
   "source": []
  },
  {
   "cell_type": "code",
   "execution_count": 9,
   "metadata": {},
   "outputs": [
    {
     "name": "stdout",
     "output_type": "stream",
     "text": [
      "<class 'dict'>\n"
     ]
    }
   ],
   "source": []
  }
 ],
 "metadata": {
  "kernelspec": {
   "display_name": "Python 3",
   "language": "python",
   "name": "python3"
  },
  "language_info": {
   "codemirror_mode": {
    "name": "ipython",
    "version": 3
   },
   "file_extension": ".py",
   "mimetype": "text/x-python",
   "name": "python",
   "nbconvert_exporter": "python",
   "pygments_lexer": "ipython3",
   "version": "3.11.1"
  },
  "orig_nbformat": 4
 },
 "nbformat": 4,
 "nbformat_minor": 2
}
